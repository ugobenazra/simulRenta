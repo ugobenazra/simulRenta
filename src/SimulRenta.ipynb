{
 "cells": [
  {
   "cell_type": "markdown",
   "metadata": {},
   "source": [
    "# Création d'un fichier Excel à partir de quelques variables pour calculer la renta d'un bien immo\n"
   ]
  },
  {
   "cell_type": "code",
   "execution_count": 9,
   "metadata": {},
   "outputs": [],
   "source": [
    "# emprunt sur 15 ans \n",
    "\n",
    "def calcul_renta(dic_appart):\n",
    "    prix = dic_appart[\"prix\"]\n",
    "    frais_agence = dic_appart[\"frais_agence\"] \n",
    "    apport = dic_appart[\"apport\"]\n",
    "    taux_emprunt = dic_appart[\"taux_emprunt\"]\n",
    "    surface = dic_appart[\"surface\"]\n",
    "    charges_copro = dic_appart[\"charges_copro\"]\n",
    "    travaux = dic_appart[\"travaux\"]\n",
    "    meubles = dic_appart[\"meubles\"]\n",
    "    assurance_emprunt = dic_appart[\"assurance_emprunt\"]\n",
    "    n_annees = dic_appart[\"n_annees\"]\n",
    "    internet = dic_appart[\"internet\"]\n",
    "    assurance_proprio = dic_appart[\"assurance_proprio\"]\n",
    "    #edf = dic_appart[\"edf\"]\n",
    "    taxe_fonciere = dic_appart[\"taxe_fonciere\"]\n",
    "\n",
    "    # Cout d'achat et aménagement, \n",
    "    droits_enregistrements = 0.08*prix\n",
    "    prix_travaux = travaux*1000*surface\n",
    "    COUT_ACHAT = prix +  prix_travaux + meubles + frais_agence\n",
    "\n",
    "    # Emprunt\n",
    "    montant_pret = COUT_ACHAT-apport\n",
    "    assur_emprunt = assurance_emprunt\n",
    "\n",
    "    n_mois = n_annees * 12\n",
    "    mensualité = (montant_pret*taux_emprunt/1200) / (1-(1+(taux_emprunt/1200))**(-n_mois))\n",
    "    mensualité_avec_assurance = mensualité + assur_emprunt/12\n",
    "    cout_credit = mensualité_avec_assurance * n_mois - montant_pret\n",
    "    cout_credit_annuel = cout_credit / n_annees\n",
    "\n",
    "\n",
    "    #charges annuelles \n",
    "    if taxe_fonciere == 0:\n",
    "        taxe_fonciere = 34*surface \n",
    "    charge_copro_annuelle = 12*charges_copro\n",
    "    edf = 50 * surface\n",
    "    CHARGES_ANNUELLES = taxe_fonciere + charge_copro_annuelle + internet + assurance_proprio + edf\n",
    "\n",
    "    # Cashflow annuel\n",
    "    if surface <= 14 :\n",
    "        loyer  = 65 * surface\n",
    "    elif surface <= 19:\n",
    "        loyer = 55 * surface\n",
    "    else : # rajouter une composant localisation\n",
    "        loyer = 45*surface\n",
    "\n",
    "    revenus = loyer * 12\n",
    "    decaissement =  mensualité_avec_assurance * 12\n",
    "    CASHFLOW_ANNUEL = revenus-decaissement\n",
    "\n",
    "    # Profitabilité Annuelle\n",
    "    revenus_net = revenus - CHARGES_ANNUELLES\n",
    "    profitabilite_hors_frais_financiers = revenus_net / COUT_ACHAT * 100\n",
    "    profitabilite_avec_frais_financiers = (revenus_net - cout_credit_annuel) / COUT_ACHAT * 100\n",
    "\n",
    "    dic = {\n",
    "        \"Cout d'achat et aménagement\" : {\n",
    "            \"droits_enregistrements\" : droits_enregistrements,\n",
    "            \"prix_travaux\" : prix_travaux,\n",
    "            \"COUT_ACHAT\" : COUT_ACHAT,\n",
    "            \"apport\" : apport\n",
    "        },\n",
    "        \"Emprunt\" : {\n",
    "            \"montant_pret\" : montant_pret,\n",
    "            \"assur_emprunt\" : assur_emprunt,\n",
    "            \"n_mois\" : n_mois,\n",
    "            \"mensualité\" : mensualité,\n",
    "            \"mensualité_avec_assurance\" : mensualité_avec_assurance,\n",
    "            \"cout_credit\" : cout_credit,\n",
    "            \"cout_credit_annuel\" : cout_credit_annuel\n",
    "        },\n",
    "        \"charges annuelles\" : {\n",
    "            \"taxe_fonciere\" : taxe_fonciere,\n",
    "            \"charge_copro_annuelle\" : charge_copro_annuelle,\n",
    "            \"CHARGES_ANNUELLES\" : CHARGES_ANNUELLES\n",
    "        },\n",
    "        \"Cashflow annuel\" : {\n",
    "            \"loyer\" : loyer,\n",
    "            \"revenus\" : revenus,\n",
    "            \"decaissement\" :  decaissement,\n",
    "            \"CASHFLOW_ANNUEL\" : CASHFLOW_ANNUEL\n",
    "        },\n",
    "        \"Profitabilité Annuelle\" : {\n",
    "            \"revenus_net\" : revenus_net,\n",
    "            \"profitabilite_hors_frais_financiers\" : round(profitabilite_hors_frais_financiers, 3),\n",
    "            \"profitabilite_avec_frais_financiers\" : round(profitabilite_avec_frais_financiers, 3),\n",
    "        }\n",
    "    }\n",
    "\n",
    "    return dic"
   ]
  },
  {
   "cell_type": "code",
   "execution_count": 10,
   "metadata": {},
   "outputs": [],
   "source": [
    "def display_simul(dic):\n",
    "    for key in dic:\n",
    "        print(key, \":\")\n",
    "        for key_bis in dic[key]:\n",
    "            if key_bis == \"profitabilite_hors_frais_financiers\" or key_bis == \"profitabilite_avec_frais_financiers\" :\n",
    "                print(\"\\t \", key_bis ,\" : \", dic[key][key_bis], \"%\")\n",
    "            elif key_bis == \"n_mois\" :\n",
    "                print(\"\\t \", key_bis ,\" : \", dic[key][key_bis], \"mois\")\n",
    "            else :\n",
    "                print(\"\\t \", key_bis ,\" : \", dic[key][key_bis], \"€\")\n",
    "        print(\" \")\n",
    "    return 0\n",
    "    "
   ]
  },
  {
   "cell_type": "code",
   "execution_count": 11,
   "metadata": {},
   "outputs": [
    {
     "name": "stdout",
     "output_type": "stream",
     "text": [
      "Cout d'achat et aménagement :\n",
      "\t  droits_enregistrements  :  12153.6 €\n",
      "\t  prix_travaux  :  21944.0 €\n",
      "\t  COUT_ACHAT  :  176864.0 €\n",
      "\t  apport  :  65000 €\n",
      " \n",
      "Emprunt :\n",
      "\t  montant_pret  :  111864.0 €\n",
      "\t  assur_emprunt  :  260 €\n",
      "\t  n_mois  :  180 mois\n",
      "\t  mensualité  :  827.4445011035401 €\n",
      "\t  mensualité_avec_assurance  :  849.1111677702067 €\n",
      "\t  cout_credit  :  40976.0101986372 €\n",
      "\t  cout_credit_annuel  :  2731.73401324248 €\n",
      " \n",
      "charges annuelles :\n",
      "\t  taxe_fonciere  :  424 €\n",
      "\t  charge_copro_annuelle  :  600 €\n",
      "\t  CHARGES_ANNUELLES  :  2648.0 €\n",
      " \n",
      "Cashflow annuel :\n",
      "\t  loyer  :  928.4 €\n",
      "\t  revenus  :  11140.8 €\n",
      "\t  decaissement  :  10189.334013242482 €\n",
      "\t  CASHFLOW_ANNUEL  :  951.4659867575174 €\n",
      " \n",
      "Profitabilité Annuelle :\n",
      "\t  revenus_net  :  8492.8 €\n",
      "\t  profitabilite_hors_frais_financiers  :  4.802 %\n",
      "\t  profitabilite_avec_frais_financiers  :  3.257 %\n",
      " \n"
     ]
    },
    {
     "data": {
      "text/plain": [
       "0"
      ]
     },
     "execution_count": 11,
     "metadata": {},
     "output_type": "execute_result"
    }
   ],
   "source": [
    "# 9000/m2\n",
    "surface = 16.88\n",
    "prix = 9000 * surface\n",
    "dic_appart = {\n",
    "    \"prix\" : 151920,\n",
    "    \"frais_agence\" : 0, \n",
    "    \"apport\" : 65000, \n",
    "    \"taux_emprunt\" : 4, \n",
    "    \"surface\" : 16.88, \n",
    "    \"charges_copro\" : 50, \n",
    "    \"travaux\" : 1.3, \n",
    "    \"meubles\" : 3000, \n",
    "    \"assurance_emprunt\" : 260, \n",
    "    \"n_annees\" : 15, \n",
    "    \"internet\" : 480, \n",
    "    \"assurance_proprio\" : 300, \n",
    "    #\"edf\" : 1200, \n",
    "    \"taxe_fonciere\" : 424\n",
    "}\n",
    "\n",
    "dic = calcul_renta(dic_appart)\n",
    "display_simul(dic)"
   ]
  },
  {
   "cell_type": "code",
   "execution_count": 12,
   "metadata": {},
   "outputs": [
    {
     "name": "stdout",
     "output_type": "stream",
     "text": [
      "Cout d'achat et aménagement :\n",
      "\t  droits_enregistrements  :  12880.0 €\n",
      "\t  prix_travaux  :  21944.0 €\n",
      "\t  COUT_ACHAT  :  185944.0 €\n",
      "\t  apport  :  65000 €\n",
      " \n",
      "Emprunt :\n",
      "\t  montant_pret  :  120944.0 €\n",
      "\t  assur_emprunt  :  260 €\n",
      "\t  n_mois  :  180 mois\n",
      "\t  mensualité  :  894.6081647488606 €\n",
      "\t  mensualité_avec_assurance  :  916.2748314155273 €\n",
      "\t  cout_credit  :  43985.4696547949 €\n",
      "\t  cout_credit_annuel  :  2932.3646436529934 €\n",
      " \n",
      "charges annuelles :\n",
      "\t  taxe_fonciere  :  424 €\n",
      "\t  charge_copro_annuelle  :  600 €\n",
      "\t  CHARGES_ANNUELLES  :  2648.0 €\n",
      " \n",
      "Cashflow annuel :\n",
      "\t  loyer  :  928.4 €\n",
      "\t  revenus  :  11140.8 €\n",
      "\t  decaissement  :  10995.297976986327 €\n",
      "\t  CASHFLOW_ANNUEL  :  145.50202301367244 €\n",
      " \n",
      "Profitabilité Annuelle :\n",
      "\t  revenus_net  :  8492.8 €\n",
      "\t  profitabilite_hors_frais_financiers  :  4.567 %\n",
      "\t  profitabilite_avec_frais_financiers  :  2.99 %\n",
      " \n"
     ]
    },
    {
     "data": {
      "text/plain": [
       "0"
      ]
     },
     "execution_count": 12,
     "metadata": {},
     "output_type": "execute_result"
    }
   ],
   "source": [
    "# 9500/m2\n",
    "surface = 29.62\n",
    "prix = 9500 * surface\n",
    "dic_appart = {\n",
    "    \"prix\" : 161000,\n",
    "    \"frais_agence\" : 0, \n",
    "    \"apport\" : 65000, \n",
    "    \"taux_emprunt\" : 4, \n",
    "    \"surface\" : 16.88, \n",
    "    \"charges_copro\" : 50, \n",
    "    \"travaux\" : 1.3, \n",
    "    \"meubles\" : 3000, \n",
    "    \"assurance_emprunt\" : 260, \n",
    "    \"n_annees\" : 15, \n",
    "    \"internet\" : 480, \n",
    "    \"assurance_proprio\" : 300, \n",
    "    #\"edf\" : 1200, \n",
    "    \"taxe_fonciere\" : 424\n",
    "}\n",
    "\n",
    "dic = calcul_renta(dic_appart)\n",
    "display_simul(dic)"
   ]
  },
  {
   "cell_type": "markdown",
   "metadata": {},
   "source": [
    "travaux : 0 si rien a faire, 1 si à faire (estimation à 1000€ / $m^2$)"
   ]
  },
  {
   "cell_type": "markdown",
   "metadata": {},
   "source": [
    "1145\n",
    "42m2\n",
    "\n",
    "27€ / m2\n"
   ]
  },
  {
   "cell_type": "markdown",
   "metadata": {},
   "source": [
    "Studio La Muette\n",
    "\n",
    "Surface : 27.36\n",
    "\n",
    "Description : En plein cœur de La Muette, situé au cinquième étage avec ascenseur dans un immeuble datant de 1960, cet appartement se compose d'une entrée, une cuisine ouverte, une belle pièce de vie lumineuse offrant une vue dégagée, ainsi qu'une salle de bains avec WC.\n",
    "Une cave complète ce bien.\n",
    "À rénover, il offre un fort potentiel. Proche du métro La Muette et de toutes les commodités, une visite s'impose rapidement !\n",
    "\n",
    "lien : https://ap.immo/p/85156071"
   ]
  },
  {
   "cell_type": "code",
   "execution_count": 13,
   "metadata": {},
   "outputs": [
    {
     "name": "stdout",
     "output_type": "stream",
     "text": [
      "Cout d'achat et aménagement :\n",
      "\t  droits_enregistrements  :  25171.2 €\n",
      "\t  prix_travaux  :  35568.0 €\n",
      "\t  COUT_ACHAT  :  353208.0 €\n",
      "\t  apport  :  40000 €\n",
      " \n",
      "Emprunt :\n",
      "\t  montant_pret  :  313208.0 €\n",
      "\t  assur_emprunt  :  260 €\n",
      "\t  n_mois  :  180 mois\n",
      "\t  mensualité  :  2257.5718994489334 €\n",
      "\t  mensualité_avec_assurance  :  2279.2385661156 €\n",
      "\t  cout_credit  :  97054.94190080801 €\n",
      "\t  cout_credit_annuel  :  6470.3294600538675 €\n",
      " \n",
      "charges annuelles :\n",
      "\t  taxe_fonciere  :  424 €\n",
      "\t  charge_copro_annuelle  :  1920 €\n",
      "\t  CHARGES_ANNUELLES  :  4492.0 €\n",
      " \n",
      "Cashflow annuel :\n",
      "\t  loyer  :  1231.2 €\n",
      "\t  revenus  :  14774.400000000001 €\n",
      "\t  decaissement  :  27350.862793387198 €\n",
      "\t  CASHFLOW_ANNUEL  :  -12576.462793387196 €\n",
      " \n",
      "Profitabilité Annuelle :\n",
      "\t  revenus_net  :  10282.400000000001 €\n",
      "\t  profitabilite_hors_frais_financiers  :  2.911 %\n",
      "\t  profitabilite_avec_frais_financiers  :  1.079 %\n",
      " \n"
     ]
    },
    {
     "data": {
      "text/plain": [
       "0"
      ]
     },
     "execution_count": 13,
     "metadata": {},
     "output_type": "execute_result"
    }
   ],
   "source": [
    "# 11500/m2\n",
    "surface = 27.36\n",
    "prix = 11500 * surface\n",
    "dic_appart = {\n",
    "    \"prix\" : prix,\n",
    "    \"frais_agence\" : 0, \n",
    "    \"apport\" : 40000, \n",
    "    \"taux_emprunt\" : 3.62, \n",
    "    \"surface\" : surface, \n",
    "    \"charges_copro\" : 160, \n",
    "    \"travaux\" : 1.3, \n",
    "    \"meubles\" : 3000, \n",
    "    \"assurance_emprunt\" : 260, \n",
    "    \"n_annees\" : 15,\n",
    "    \"internet\" : 480, \n",
    "    \"assurance_proprio\" : 300, \n",
    "    #\"edf\" : 1200, \n",
    "    \"taxe_fonciere\" : 424\n",
    "}\n",
    "\n",
    "dic = calcul_renta(dic_appart)\n",
    "display_simul(dic)"
   ]
  },
  {
   "cell_type": "code",
   "execution_count": 22,
   "metadata": {},
   "outputs": [
    {
     "name": "stdout",
     "output_type": "stream",
     "text": [
      "Cout d'achat et aménagement :\n",
      "\t  droits_enregistrements  :  21888.0 €\n",
      "\t  prix_travaux  :  35568.0 €\n",
      "\t  COUT_ACHAT  :  312168.0 €\n",
      "\t  apport  :  150000 €\n",
      " \n",
      "Emprunt :\n",
      "\t  montant_pret  :  162168.0 €\n",
      "\t  assur_emprunt  :  260 €\n",
      "\t  n_mois  :  180 mois\n",
      "\t  mensualité  :  1168.8907045472488 €\n",
      "\t  mensualité_avec_assurance  :  1190.5573712139155 €\n",
      "\t  cout_credit  :  52132.32681850481 €\n",
      "\t  cout_credit_annuel  :  3475.488454566987 €\n",
      " \n",
      "charges annuelles :\n",
      "\t  taxe_fonciere  :  424 €\n",
      "\t  charge_copro_annuelle  :  1920 €\n",
      "\t  CHARGES_ANNUELLES  :  4492.0 €\n",
      " \n",
      "Cashflow annuel :\n",
      "\t  loyer  :  1231.2 €\n",
      "\t  revenus  :  14774.400000000001 €\n",
      "\t  decaissement  :  14286.688454566985 €\n",
      "\t  CASHFLOW_ANNUEL  :  487.711545433016 €\n",
      " \n",
      "Profitabilité Annuelle :\n",
      "\t  revenus_net  :  10282.400000000001 €\n",
      "\t  profitabilite_hors_frais_financiers  :  3.294 %\n",
      "\t  profitabilite_avec_frais_financiers  :  2.181 %\n",
      " \n"
     ]
    },
    {
     "data": {
      "text/plain": [
       "0"
      ]
     },
     "execution_count": 22,
     "metadata": {},
     "output_type": "execute_result"
    }
   ],
   "source": [
    "# 10000/m2\n",
    "surface = 27.36\n",
    "prix = 10000 * surface\n",
    "dic_appart = {\n",
    "    \"prix\" : prix,\n",
    "    \"frais_agence\" : 0, \n",
    "    \"apport\" : 150000, \n",
    "    \"taux_emprunt\" : 3.62, \n",
    "    \"surface\" : surface, \n",
    "    \"charges_copro\" : 160, \n",
    "    \"travaux\" : 1.3, \n",
    "    \"meubles\" : 3000, \n",
    "    \"assurance_emprunt\" : 260, \n",
    "    \"n_annees\" : 15,\n",
    "    \"internet\" : 480, \n",
    "    \"assurance_proprio\" : 300, \n",
    "    #\"edf\" : 1200, \n",
    "    \"taxe_fonciere\" : 424\n",
    "}\n",
    "\n",
    "dic = calcul_renta(dic_appart)\n",
    "display_simul(dic)"
   ]
  },
  {
   "cell_type": "code",
   "execution_count": null,
   "metadata": {},
   "outputs": [],
   "source": []
  },
  {
   "cell_type": "code",
   "execution_count": null,
   "metadata": {},
   "outputs": [],
   "source": []
  },
  {
   "cell_type": "code",
   "execution_count": null,
   "metadata": {},
   "outputs": [],
   "source": []
  }
 ],
 "metadata": {
  "kernelspec": {
   "display_name": "Python 3",
   "language": "python",
   "name": "python3"
  },
  "language_info": {
   "codemirror_mode": {
    "name": "ipython",
    "version": 3
   },
   "file_extension": ".py",
   "mimetype": "text/x-python",
   "name": "python",
   "nbconvert_exporter": "python",
   "pygments_lexer": "ipython3",
   "version": "3.9.6"
  }
 },
 "nbformat": 4,
 "nbformat_minor": 2
}
